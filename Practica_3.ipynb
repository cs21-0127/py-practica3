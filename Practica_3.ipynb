{
  "cells": [
    {
      "cell_type": "markdown",
      "metadata": {
        "id": "view-in-github",
        "colab_type": "text"
      },
      "source": [
        "<a href=\"https://colab.research.google.com/github/cs21-0127/py-practica3/blob/main/Practica_3.ipynb\" target=\"_parent\"><img src=\"https://colab.research.google.com/assets/colab-badge.svg\" alt=\"Open In Colab\"/></a>"
      ]
    },
    {
      "cell_type": "markdown",
      "id": "241b2373",
      "metadata": {
        "id": "241b2373"
      },
      "source": [
        "# <center>Práctica 3<center>\n",
        "\n",
        "Objetivo:\n",
        "El objetivo de esta práctica es familiarizarte con los diferentes tipos de datos en Python y cómo trabajar con ellos."
      ]
    },
    {
      "cell_type": "markdown",
      "id": "63f9e2f6",
      "metadata": {
        "id": "63f9e2f6"
      },
      "source": [
        "## 1- Escribe una breve descripción de los Tipos de Objetos y Estructuras de Datos que se muestran a continuación:\n",
        "\n",
        "* #### Number: Representa un valor numérico, que puede ser entero o decimal.  \n",
        "\n",
        "* #### String: Representa una secuencia de caracteres, como palabras, frases o texto en general.\n",
        "\n",
        "* #### List: Es una colección ordenada de elementos, que pueden ser de cualquier tipo, incluyendo números, cadenas y otros objetos.\n",
        "\n",
        "* #### Set: Es una colección desordenada y sin duplicados de elementos, que pueden ser de cualquier tipo.\n",
        "\n",
        "* #### Tuple: Es una colección ordenada e inmutable de elementos, que pueden ser de cualquier tipo.\n",
        "\n",
        "* #### Dictionarie: Es una estructura de datos y un tipo de dato en Python con características especiales que nos permite almacenar cualquier tipo de valor como enteros, cadenas, listas e incluso otras funciones, formadas por una llave y un valor.\n",
        "\n",
        "Puedes editar la celda haciendo doble clic sobre ella."
      ]
    },
    {
      "cell_type": "markdown",
      "id": "ee520963",
      "metadata": {
        "id": "ee520963"
      },
      "source": [
        "## 2- Cúal es la diferencia entre List, Tuple y Set?"
      ]
    },
    {
      "cell_type": "markdown",
      "id": "60f5e569",
      "metadata": {
        "id": "60f5e569"
      },
      "source": [
        "La lista es una colección mutable, lo que significa que se puede agregar, eliminar o modificar elementos después de crear la lista.\n",
        "\n",
        "La tupla es una colección inmutable, lo que significa que no se puede agregar, eliminar o modificar elementos después de crear la tupla.\n",
        "\n",
        "El set es una colección donde se pueden acceder elementos por índice, ya que no hay un orden específico, ademas de que no permite duplicados."
      ]
    },
    {
      "cell_type": "markdown",
      "id": "94c4c67d",
      "metadata": {
        "id": "94c4c67d"
      },
      "source": [
        "## 3- Crea una lista que contenga números enteros y flotantes e imprimela\n"
      ]
    },
    {
      "cell_type": "code",
      "execution_count": null,
      "id": "b54bc01e",
      "metadata": {
        "colab": {
          "base_uri": "https://localhost:8080/"
        },
        "id": "b54bc01e",
        "outputId": "94ee8fb4-e653-4157-826e-b39aabbd7723"
      },
      "outputs": [
        {
          "output_type": "stream",
          "name": "stdout",
          "text": [
            "[1.1, 2, 3.5, 4, 5]\n"
          ]
        }
      ],
      "source": [
        "lista = [1.1, 2, 3.5, 4, 5]\n",
        "print(lista)"
      ]
    },
    {
      "cell_type": "markdown",
      "id": "943c13a1",
      "metadata": {
        "id": "943c13a1"
      },
      "source": [
        "## 4- Crea una tupla que contenga algunos Strings e imprimela"
      ]
    },
    {
      "cell_type": "code",
      "execution_count": null,
      "id": "4ce63ffb",
      "metadata": {
        "colab": {
          "base_uri": "https://localhost:8080/"
        },
        "id": "4ce63ffb",
        "outputId": "795c56d2-1994-4ab6-cfb3-dbad5d99d915"
      },
      "outputs": [
        {
          "output_type": "stream",
          "name": "stdout",
          "text": [
            "('Manzana', 'Pera', 'Melocoton', 'Banana', 'Naranja')\n"
          ]
        }
      ],
      "source": [
        "tupla = (\"Manzana\", \"Pera\", \"Melocoton\", \"Banana\", \"Naranja\")\n",
        "print(tupla)"
      ]
    },
    {
      "cell_type": "markdown",
      "id": "66cc1b05",
      "metadata": {
        "id": "66cc1b05"
      },
      "source": [
        "## 5- Crea un diccionario que tenga como claves algunas de las cadenas de la tupla creada antes y como valores algunos de los números de la lista creada antes e imprime"
      ]
    },
    {
      "cell_type": "code",
      "execution_count": null,
      "id": "e48aaca3",
      "metadata": {
        "colab": {
          "base_uri": "https://localhost:8080/"
        },
        "id": "e48aaca3",
        "outputId": "ac8be7ed-eac4-495e-fb50-efb42988fe76"
      },
      "outputs": [
        {
          "output_type": "stream",
          "name": "stdout",
          "text": [
            "{'Manzana': 1.1, 'Pera': 2, 'Melocoton': 3.5}\n"
          ]
        }
      ],
      "source": [
        "diccionario = {}\n",
        "\n",
        "diccionario[\"Manzana\"] = lista[0]\n",
        "diccionario[\"Pera\"] = lista[1]\n",
        "diccionario[\"Melocoton\"] = lista[2]\n",
        "\n",
        "print(diccionario)"
      ]
    },
    {
      "cell_type": "markdown",
      "id": "020fab64",
      "metadata": {
        "id": "020fab64"
      },
      "source": [
        "## 6- Escribe una ecuación de como resultado 150,75 utilizando la multiplicación, la división, la potencia, la raíz cuadrada, la suma y la resta"
      ]
    },
    {
      "cell_type": "code",
      "execution_count": null,
      "id": "c76f4670",
      "metadata": {
        "colab": {
          "base_uri": "https://localhost:8080/"
        },
        "id": "c76f4670",
        "outputId": "ee8bf431-a454-4f5c-f8b2-996c1ff3a196"
      },
      "outputs": [
        {
          "output_type": "stream",
          "name": "stdout",
          "text": [
            "150.75\n"
          ]
        }
      ],
      "source": [
        "from math import sqrt\n",
        "\n",
        "ecuacion = (2 * 10) + (100 / 10) + (8 ** 2) + sqrt(49) + 100 - 50.25\n",
        "print(ecuacion)"
      ]
    },
    {
      "cell_type": "markdown",
      "id": "f325a5d7",
      "metadata": {
        "id": "f325a5d7"
      },
      "source": [
        "## 7- Añade un número al listado creado en el punto 3"
      ]
    },
    {
      "cell_type": "code",
      "execution_count": null,
      "id": "7d886a09",
      "metadata": {
        "colab": {
          "base_uri": "https://localhost:8080/"
        },
        "id": "7d886a09",
        "outputId": "9599ba85-836c-49f9-e15e-59c4f7b49625"
      },
      "outputs": [
        {
          "output_type": "stream",
          "name": "stdout",
          "text": [
            "[1.1, 2, 3.5, 4, 5, 6.5]\n"
          ]
        }
      ],
      "source": [
        "lista.append(6.5)\n",
        "print(lista)"
      ]
    },
    {
      "cell_type": "markdown",
      "id": "65fc6d3e",
      "metadata": {
        "id": "65fc6d3e"
      },
      "source": [
        "## 8- Convierte el listado anterior en un set e imprimelo"
      ]
    },
    {
      "cell_type": "code",
      "execution_count": null,
      "id": "0e3e5e0e",
      "metadata": {
        "colab": {
          "base_uri": "https://localhost:8080/"
        },
        "id": "0e3e5e0e",
        "outputId": "1a15fb91-6d22-4fd6-ceca-58d1e6e67594"
      },
      "outputs": [
        {
          "output_type": "stream",
          "name": "stdout",
          "text": [
            "{1.1, 2, 3.5, 4, 5, 6.5}\n"
          ]
        }
      ],
      "source": [
        "set = set(lista)\n",
        "print(set)"
      ]
    },
    {
      "cell_type": "markdown",
      "id": "ea5d9aed",
      "metadata": {
        "id": "ea5d9aed"
      },
      "source": [
        "\n",
        "## 9- Utiliza los index y las llaves para acceder e imprimir \"hola\" del siguiente diccionario:"
      ]
    },
    {
      "cell_type": "code",
      "execution_count": null,
      "id": "4e3535d0",
      "metadata": {
        "colab": {
          "base_uri": "https://localhost:8080/"
        },
        "id": "4e3535d0",
        "outputId": "48aa75c7-d4f5-4ac3-b48d-2d345dddbac6"
      },
      "outputs": [
        {
          "output_type": "stream",
          "name": "stdout",
          "text": [
            "hola\n"
          ]
        }
      ],
      "source": [
        "d = {'c1':[4,1,{'c2':['es otro listado',{'0':[3,1,['hola']]}]}]}\n",
        "\n",
        "print(d['c1'][2]['c2'][1]['0'][2][0])"
      ]
    },
    {
      "cell_type": "markdown",
      "id": "58aad6b7",
      "metadata": {
        "id": "58aad6b7"
      },
      "source": [
        "## 10- Basado en el diccionario anterior, que resultado arroja la siguiente expresión?\n",
        "d['c1'][0] > d['c1'][2]['c2'][1]['0'][0]"
      ]
    },
    {
      "cell_type": "code",
      "execution_count": null,
      "id": "cd9b3545",
      "metadata": {
        "colab": {
          "base_uri": "https://localhost:8080/"
        },
        "id": "cd9b3545",
        "outputId": "6bff277d-6e63-4dfe-a505-d32de21382c9"
      },
      "outputs": [
        {
          "output_type": "stream",
          "name": "stdout",
          "text": [
            "True\n"
          ]
        }
      ],
      "source": [
        "resultado = d['c1'][0] > d['c1'][2]['c2'][1]['0'][0]\n",
        "print(resultado)"
      ]
    }
  ],
  "metadata": {
    "kernelspec": {
      "display_name": "Python 3 (ipykernel)",
      "language": "python",
      "name": "python3"
    },
    "language_info": {
      "codemirror_mode": {
        "name": "ipython",
        "version": 3
      },
      "file_extension": ".py",
      "mimetype": "text/x-python",
      "name": "python",
      "nbconvert_exporter": "python",
      "pygments_lexer": "ipython3",
      "version": "3.11.7"
    },
    "colab": {
      "provenance": [],
      "include_colab_link": true
    }
  },
  "nbformat": 4,
  "nbformat_minor": 5
}